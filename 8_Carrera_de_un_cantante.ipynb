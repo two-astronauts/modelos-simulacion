{
  "nbformat": 4,
  "nbformat_minor": 0,
  "metadata": {
    "colab": {
      "provenance": [],
      "authorship_tag": "ABX9TyN85fTY8MHA2QJzqfmLEb72",
      "include_colab_link": true
    },
    "kernelspec": {
      "name": "python3",
      "display_name": "Python 3"
    },
    "language_info": {
      "name": "python"
    }
  },
  "cells": [
    {
      "cell_type": "markdown",
      "metadata": {
        "id": "view-in-github",
        "colab_type": "text"
      },
      "source": [
        "<a href=\"https://colab.research.google.com/github/two-astronauts/modelos-simulacion/blob/main/8_Carrera_de_un_cantante.ipynb\" target=\"_parent\"><img src=\"https://colab.research.google.com/assets/colab-badge.svg\" alt=\"Open In Colab\"/></a>"
      ]
    },
    {
      "cell_type": "code",
      "source": [
        "import random\n",
        "\n",
        "class cantanteObject:\n",
        "  def __init__(self, nivel, ganancia, anios):\n",
        "    self.nivel = nivel\n",
        "    self.ganancia = ganancia\n",
        "    self.anios = anios\n",
        "\n",
        "random.seed()\n",
        "\n",
        "gananciaCrecimientoDecaida = 45000\n",
        "gananciaFama = 100000\n",
        "cantantesCrecimiento = 20\n",
        "cantantesFama = 5\n",
        "CantantesFamaDecaida = 5\n",
        "\n",
        "anios = 20\n",
        "\n",
        "gananciaPromedio = 0\n",
        "tiempoCarreraEstimado = 0\n",
        "desistieron = 0\n",
        "\n",
        "# Poblar la lista de cantantes con valores por defecto\n",
        "listaCantantes = []\n",
        "\n",
        "for cantante in range(cantantesCrecimiento):\n",
        "  listaCantantes.append(cantanteObject('crecimiento', 0, 0))\n",
        "\n",
        "for cantante in range(cantantesFama):\n",
        "  listaCantantes.append(cantanteObject('fama', 0, 0))\n",
        "\n",
        "for cantante in range(CantantesFamaDecaida):\n",
        "  listaCantantes.append(cantanteObject('decaida', 0, 0))\n",
        "\n",
        "for iteracion in range(anios):\n",
        "  for cantante in listaCantantes:\n",
        "\n",
        "    if (cantante.nivel != 'desiste'):\n",
        "      cantante.anios += 1\n",
        "\n",
        "    if (cantante.nivel == 'crecimiento'):\n",
        "      probabilidadFama = random.random()\n",
        "\n",
        "      if (probabilidadFama < 0.3):\n",
        "        cantante.nivel = 'fama'\n",
        "        cantante.ganancia += gananciaFama\n",
        "      else:\n",
        "        cantante.ganancia = gananciaCrecimientoDecaida\n",
        "\n",
        "    elif (cantante.nivel == 'fama'):\n",
        "      probabilidadFama = random.random()\n",
        "\n",
        "      if (probabilidadFama < 0.1):\n",
        "        cantante.nivel = 'sin fama'\n",
        "        cantante.ganancia += 0\n",
        "      elif(probabilidadFama < 0.5):\n",
        "        cantante.nivel = 'decaida'\n",
        "        cantante.ganancia += gananciaCrecimientoDecaida\n",
        "      else:\n",
        "        cantante.ganancia += gananciaFama\n",
        "\n",
        "    elif (cantante.nivel == 'sin fama' or cantante.nivel == 'decaida'):\n",
        "      probabilidadFama = random.random()\n",
        "\n",
        "      if (probabilidadFama < 0.2):\n",
        "        cantante.nivel = 'fama'\n",
        "        cantante.ganancia += gananciaFama\n",
        "      else:\n",
        "        cantante.nivel = 'desiste'\n",
        "\n",
        "for cantante in listaCantantes:\n",
        "  gananciaPromedio += cantante.ganancia\n",
        "  tiempoCarreraEstimado += cantante.anios\n",
        "  if (cantante.nivel == 'desiste'):\n",
        "    desistieron += 1\n",
        "\n",
        "gananciaPromedio = round(gananciaPromedio / len(listaCantantes), 3)\n",
        "tiempoCarreraEstimado = round(tiempoCarreraEstimado / len(listaCantantes), 3)\n",
        "\n",
        "print(f'\\nDesistieron: {desistieron} cantantes en {anios} años')\n",
        "print(f'Tiempo estimado de carrera de un cantante: {tiempoCarreraEstimado} años')\n",
        "print(f'Promedio de ganancia de un cantante: ${gananciaPromedio}')\n",
        "\n"
      ],
      "metadata": {
        "colab": {
          "base_uri": "https://localhost:8080/"
        },
        "id": "lxU2_1gbMzuY",
        "outputId": "32660616-349b-4485-d647-50c9495fcfad"
      },
      "execution_count": 11,
      "outputs": [
        {
          "output_type": "stream",
          "name": "stdout",
          "text": [
            "\n",
            "Desistieron: 30 cantantes en 20 años\n",
            "Tiempo estimado de carrera de un cantante: 5.667 años\n",
            "Promedio de ganancia de un cantante: $256333.333\n"
          ]
        }
      ]
    },
    {
      "cell_type": "markdown",
      "source": [],
      "metadata": {
        "id": "K4Sse3fQMzY8"
      }
    }
  ]
}