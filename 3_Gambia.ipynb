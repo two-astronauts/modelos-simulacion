{
  "nbformat": 4,
  "nbformat_minor": 0,
  "metadata": {
    "colab": {
      "provenance": [],
      "authorship_tag": "ABX9TyNpmlBwlJLQoxwsrJnkDcK2",
      "include_colab_link": true
    },
    "kernelspec": {
      "name": "python3",
      "display_name": "Python 3"
    },
    "language_info": {
      "name": "python"
    }
  },
  "cells": [
    {
      "cell_type": "markdown",
      "metadata": {
        "id": "view-in-github",
        "colab_type": "text"
      },
      "source": [
        "<a href=\"https://colab.research.google.com/github/two-astronauts/modelos-simulacion/blob/main/3_Gambia.ipynb\" target=\"_parent\"><img src=\"https://colab.research.google.com/assets/colab-badge.svg\" alt=\"Open In Colab\"/></a>"
      ]
    },
    {
      "cell_type": "code",
      "execution_count": 13,
      "metadata": {
        "id": "-oLYqtA9YPh0",
        "colab": {
          "base_uri": "https://localhost:8080/"
        },
        "outputId": "a9f630a5-5417-4236-a452-69a91da8363f"
      },
      "outputs": [
        {
          "output_type": "stream",
          "name": "stdout",
          "text": [
            "Año: 1\n",
            "Impuestos acumulados: 0\n",
            "Año: 2\n",
            "Impuestos acumulados: 1034128400\n",
            "Año: 3\n",
            "Impuestos acumulados: 1034128400\n",
            "Año: 4\n",
            "Impuestos acumulados: 1034128400\n",
            "Año: 5\n",
            "Impuestos acumulados: 1034128400\n",
            "Año: 6\n",
            "Impuestos acumulados: 2096565900\n",
            "Año: 7\n",
            "Impuestos acumulados: 2690425500\n",
            "Año: 8\n",
            "Impuestos acumulados: 2995562000\n",
            "Año: 9\n",
            "Impuestos acumulados: 3144748600\n",
            "Año: 10\n",
            "Impuestos acumulados: 3215017700\n",
            "Año: 11\n",
            "Impuestos acumulados: 3215017700\n",
            "Año: 12\n",
            "Impuestos acumulados: 3215017700\n",
            "Año: 13\n",
            "Impuestos acumulados: 4000521600\n",
            "Año: 14\n",
            "Impuestos acumulados: 4375975100\n",
            "Año: 15\n",
            "Impuestos acumulados: 4375975100\n",
            "Año: 16\n",
            "Impuestos acumulados: 4375975100\n",
            "Año: 17\n",
            "Impuestos acumulados: 5213340500\n",
            "Año: 18\n",
            "Impuestos acumulados: 5213340500\n",
            "Año: 19\n",
            "Impuestos acumulados: 5942971800\n",
            "Año: 20\n",
            "Impuestos acumulados: 6297436200\n",
            "Cantidad años con buen comercio: 11\n",
            "Cantidad años con mal comercio: 9\n"
          ]
        }
      ],
      "source": [
        "import random\n",
        "\n",
        "random.seed()\n",
        "\n",
        "anios = 20\n",
        "\n",
        "poblacioClaseBaja = 1000000\n",
        "poblacioClaseMedia = 700000\n",
        "poblacioClaseAlta = 300000\n",
        "\n",
        "impuestoBajaMedia = 500\n",
        "impuestoMediaAlta = 800\n",
        "\n",
        "buenComercio = 0\n",
        "malComercio = 0\n",
        "impuestoTotal = 0\n",
        "\n",
        "def subidaClase():\n",
        "  global poblacioClaseBaja, poblacioClaseMedia, poblacioClaseAlta, impuestoTotal, impuestoBajaMedia, impuestoMediaAlta\n",
        "\n",
        "  for familia in range(poblacioClaseBaja):\n",
        "    subida = random.random()\n",
        "\n",
        "    if (subida < 0.6):\n",
        "      impuestoTotal += impuestoBajaMedia\n",
        "      poblacioClaseBaja -= 1\n",
        "      poblacioClaseMedia += 1\n",
        "\n",
        "  for familia in range(poblacioClaseMedia):\n",
        "    subida = random.random()\n",
        "\n",
        "    if (subida < 0.6):\n",
        "      impuestoTotal += impuestoMediaAlta\n",
        "      poblacioClaseMedia -= 1\n",
        "      poblacioClaseAlta += 1\n",
        "\n",
        "def bajadaClase():\n",
        "  global poblacioClaseBaja, poblacioClaseMedia, poblacioClaseAlta\n",
        "\n",
        "  for familia in range(poblacioClaseMedia):\n",
        "    bajada = random.random()\n",
        "\n",
        "    if (bajada < 0.5):\n",
        "      poblacioClaseMedia -= 1\n",
        "      poblacioClaseBaja += 1\n",
        "\n",
        "  for familia in range(poblacioClaseAlta):\n",
        "    bajada = random.random()\n",
        "\n",
        "    if (bajada < 0.5):\n",
        "      poblacioClaseAlta -= 1\n",
        "      poblacioClaseMedia += 1\n",
        "\n",
        "for anio in range(anios):\n",
        "  comercio = random.random()\n",
        "\n",
        "  if (comercio < 0.45):\n",
        "    buenComercio += 1\n",
        "    subidaClase()\n",
        "  else:\n",
        "    malComercio += 1\n",
        "    bajadaClase()\n",
        "\n",
        "  print(f'Año: {anio + 1}')\n",
        "  print(f'Impuestos acumulados: {impuestoTotal}')\n",
        "\n",
        "print(f'Cantidad años con buen comercio: {buenComercio}')\n",
        "print(f'Cantidad años con mal comercio: {malComercio}')\n"
      ]
    }
  ]
}