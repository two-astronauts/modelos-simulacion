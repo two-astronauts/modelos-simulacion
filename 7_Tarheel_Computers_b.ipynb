{
  "nbformat": 4,
  "nbformat_minor": 0,
  "metadata": {
    "colab": {
      "provenance": [],
      "authorship_tag": "ABX9TyOy9OsCNqQlJNEmzvEdLBxU",
      "include_colab_link": true
    },
    "kernelspec": {
      "name": "python3",
      "display_name": "Python 3"
    },
    "language_info": {
      "name": "python"
    }
  },
  "cells": [
    {
      "cell_type": "markdown",
      "metadata": {
        "id": "view-in-github",
        "colab_type": "text"
      },
      "source": [
        "<a href=\"https://colab.research.google.com/github/two-astronauts/modelos-simulacion/blob/main/7_Tarheel_Computers_b.ipynb\" target=\"_parent\"><img src=\"https://colab.research.google.com/assets/colab-badge.svg\" alt=\"Open In Colab\"/></a>"
      ]
    },
    {
      "cell_type": "code",
      "execution_count": 5,
      "metadata": {
        "colab": {
          "base_uri": "https://localhost:8080/"
        },
        "id": "CD1NwZVq8NCC",
        "outputId": "b56afe2c-fa20-45a1-9dee-0a4815ae3a33"
      },
      "outputs": [
        {
          "output_type": "stream",
          "name": "stdout",
          "text": [
            "Dia: 1\n",
            "Inventario inicial: 1\n",
            "Demanda: 1\n",
            "Producción: 2\n",
            "Inventario final: 2\n",
            "Dia: 2\n",
            "Inventario inicial: 2\n",
            "Demanda: 2\n",
            "Producción: 1\n",
            "Inventario final: 1\n",
            "Dia: 3\n",
            "Inventario inicial: 1\n",
            "Demanda: 2\n",
            "Producción: 2\n",
            "Inventario final: 1\n",
            "Dia: 4\n",
            "Inventario inicial: 1\n",
            "Demanda: 3\n",
            "Producción: 2\n",
            "Inventario final: 0\n",
            "Dia: 5\n",
            "Inventario inicial: 0\n",
            "Demanda: 2\n",
            "Producción: 3\n",
            "Inventario final: 1\n",
            "Dia: 6\n",
            "Inventario inicial: 1\n",
            "Demanda: 3\n",
            "Producción: 2\n",
            "Inventario final: 0\n",
            "Dia: 7\n",
            "Inventario inicial: 0\n",
            "Demanda: 2\n",
            "Producción: 3\n",
            "Inventario final: 1\n",
            "Dia: 8\n",
            "Inventario inicial: 1\n",
            "Demanda: 1\n",
            "Producción: 2\n",
            "Inventario final: 2\n",
            "Dia: 9\n",
            "Inventario inicial: 2\n",
            "Demanda: 3\n",
            "Producción: 1\n",
            "Inventario final: 0\n",
            "Dia: 10\n",
            "Inventario inicial: 0\n",
            "Demanda: 2\n",
            "Producción: 3\n",
            "Inventario final: 1\n",
            "Costo promedio diario con alquiler: $33521000.0\n"
          ]
        }
      ],
      "source": [
        "import random\n",
        "\n",
        "dias = 10\n",
        "\n",
        "inventarioInicial = 1\n",
        "inventarioFinal = 0\n",
        "\n",
        "costoProduccion = 200000\n",
        "mantenerInventario = 30000\n",
        "costoNoDemanda = 50000\n",
        "costoAlquiler = 180000\n",
        "\n",
        "costoTotal = 0\n",
        "promedio = 0\n",
        "\n",
        "for dia in range(dias):\n",
        "  probabilidadDemanda = random.random()\n",
        "\n",
        "  print(f'Dia: {dia + 1}')\n",
        "\n",
        "  if (probabilidadDemanda < 0.3):\n",
        "    demanda = 1\n",
        "  elif (probabilidadDemanda < 0.75):\n",
        "    demanda = 2\n",
        "  else:\n",
        "    demanda = 3\n",
        "\n",
        "  print(f'Inventario inicial: {inventarioInicial}')\n",
        "\n",
        "  print(f'Demanda: {demanda}')\n",
        "\n",
        "  # Decidir producción\n",
        "  if (inventarioInicial == 3):\n",
        "      produccion = 1\n",
        "  else:\n",
        "      produccion = min(2 + 1, 3 - inventarioInicial)  # Máximo 3 unidades\n",
        "\n",
        "  print(f'Producción: {produccion}')\n",
        "\n",
        "  # Calcular nuevo inventario\n",
        "  if (demanda > inventarioInicial + produccion):\n",
        "    inventarioFinal = 0\n",
        "  else:\n",
        "    inventarioFinal = inventarioInicial + produccion - demanda\n",
        "\n",
        "  print(f'Inventario final: {inventarioFinal}')\n",
        "\n",
        "  # Calcular costos\n",
        "  costoProduccion = produccion * costoProduccion\n",
        "  costoInventario = max(inventarioFinal, 0) * mantenerInventario\n",
        "  costoFalta = max(demanda - inventarioInicial - produccion, 0) * costoNoDemanda\n",
        "  costoAlquilerCapacidad = costoAlquiler if produccion > 2 else 0\n",
        "  costoTotal += costoProduccion + costoInventario + costoFalta + costoAlquilerCapacidad\n",
        "\n",
        "  inventarioInicial = inventarioFinal\n",
        "\n",
        "promedio = costoTotal / dias\n",
        "\n",
        "print(f'Costo promedio diario con alquiler: ${promedio}')\n",
        "\n",
        "\n",
        "\n",
        "\n"
      ]
    }
  ]
}