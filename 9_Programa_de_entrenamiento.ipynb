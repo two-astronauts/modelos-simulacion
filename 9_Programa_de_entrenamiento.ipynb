{
  "nbformat": 4,
  "nbformat_minor": 0,
  "metadata": {
    "colab": {
      "provenance": [],
      "authorship_tag": "ABX9TyOfuO5qEZiHTp0QZIGxrP4V",
      "include_colab_link": true
    },
    "kernelspec": {
      "name": "python3",
      "display_name": "Python 3"
    },
    "language_info": {
      "name": "python"
    }
  },
  "cells": [
    {
      "cell_type": "markdown",
      "metadata": {
        "id": "view-in-github",
        "colab_type": "text"
      },
      "source": [
        "<a href=\"https://colab.research.google.com/github/two-astronauts/modelos-simulacion/blob/main/9_Programa_de_entrenamiento.ipynb\" target=\"_parent\"><img src=\"https://colab.research.google.com/assets/colab-badge.svg\" alt=\"Open In Colab\"/></a>"
      ]
    },
    {
      "cell_type": "code",
      "execution_count": 3,
      "metadata": {
        "colab": {
          "base_uri": "https://localhost:8080/"
        },
        "id": "gweSgyMy-jEf",
        "outputId": "8527d3ab-12e4-4836-bb9c-29eef4ae47e3"
      },
      "outputs": [
        {
          "output_type": "stream",
          "name": "stdout",
          "text": [
            "Tiempo promedio por etapa:\n",
            "Etapa 1: 2.48 semanas\n",
            "Etapa 2: 2.01 semanas\n",
            "Etapa 3: 4.99 semanas\n",
            "Tiempo promedio para completar el programa: 9.4719 semanas\n",
            "Tiempo mínimo para completar el programa: 3 semanas\n",
            "Tiempo máximo para completar el programa: 47 semanas\n"
          ]
        }
      ],
      "source": [
        "import random\n",
        "\n",
        "random.seed()\n",
        "\n",
        "simulaciones = 10000\n",
        "\n",
        "def simularFase(probabilidad):\n",
        "  # Simula el tiempo que tarda un estudiante en completar una fase.\n",
        "  tiempo = 1\n",
        "  while random.random() > probabilidad:\n",
        "      tiempo += 1\n",
        "  return tiempo\n",
        "\n",
        "def simularPrograma():\n",
        "  # Simula el tiempo total para completar el programa y devuelve los tiempos por etapa.\n",
        "  tiemposEtapas = []\n",
        "  probabilidades = [0.4, 0.5, 0.2]\n",
        "  for probabilidad in probabilidades:\n",
        "      tiempoEtapa = simularFase(probabilidad)\n",
        "      tiemposEtapas.append(tiempoEtapa)\n",
        "  return tiemposEtapas\n",
        "\n",
        "# Simulación y cálculo de estadísticas\n",
        "tiemposPorEtapa = [[0, 0, 0] for _ in range(simulaciones)]  # Lista para almacenar los tiempos de cada etapa en cada simulación\n",
        "\n",
        "for i in range(simulaciones):\n",
        "  tiemposPorEtapa[i] = simularPrograma()\n",
        "\n",
        "# Cálculo de estadísticas\n",
        "tiemposPromedioEtapas = [sum(tiempos) / simulaciones for tiempos in zip(*tiemposPorEtapa)]\n",
        "tiempoPromedioTotal = sum(tiemposPromedioEtapas)\n",
        "\n",
        "# Impresión de resultados\n",
        "print(\"Tiempo promedio por etapa:\")\n",
        "\n",
        "for i, tiempo in enumerate(tiemposPromedioEtapas, start = 1):\n",
        "  print(f\"Etapa {i}: {tiempo:.2f} semanas\")\n",
        "\n",
        "print(\"Tiempo promedio para completar el programa:\", tiempoPromedioTotal, \"semanas\")\n",
        "\n",
        "# Cálculo de tiempo mínimo y máximo (ya estaba incluido en el código anterior)\n",
        "tiempoMinimo = min(sum(tiempos) for tiempos in tiemposPorEtapa)\n",
        "tiempoMaximo = max(sum(tiempos) for tiempos in tiemposPorEtapa)\n",
        "\n",
        "print(\"Tiempo mínimo para completar el programa:\", tiempoMinimo, \"semanas\")\n",
        "print(\"Tiempo máximo para completar el programa:\", tiempoMaximo, \"semanas\")"
      ]
    }
  ]
}