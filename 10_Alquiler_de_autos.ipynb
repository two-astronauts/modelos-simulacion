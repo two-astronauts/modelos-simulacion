{
  "nbformat": 4,
  "nbformat_minor": 0,
  "metadata": {
    "colab": {
      "provenance": [],
      "authorship_tag": "ABX9TyO9ZsU8NnO88jaYOwKr7RGM",
      "include_colab_link": true
    },
    "kernelspec": {
      "name": "python3",
      "display_name": "Python 3"
    },
    "language_info": {
      "name": "python"
    }
  },
  "cells": [
    {
      "cell_type": "markdown",
      "metadata": {
        "id": "view-in-github",
        "colab_type": "text"
      },
      "source": [
        "<a href=\"https://colab.research.google.com/github/two-astronauts/modelos-simulacion/blob/main/10_Alquiler_de_autos.ipynb\" target=\"_parent\"><img src=\"https://colab.research.google.com/assets/colab-badge.svg\" alt=\"Open In Colab\"/></a>"
      ]
    },
    {
      "cell_type": "code",
      "execution_count": 36,
      "metadata": {
        "colab": {
          "base_uri": "https://localhost:8080/"
        },
        "id": "gQxMWe9g_CMh",
        "outputId": "22ea9db1-5fb8-45b4-af56-7bf456415d1c"
      },
      "outputs": [
        {
          "output_type": "stream",
          "name": "stdout",
          "text": [
            "\n",
            "Costos anuales de los autos: 33000000\n",
            "Perdidas por autos no disponibles: 10020000\n",
            "Perdidas por autos ociosos: 2647500\n",
            "ganancias por alquiler de los autos: 51844000\n",
            "\n",
            "Gagancias totales: 6176500\n"
          ]
        }
      ],
      "source": [
        "import random\n",
        "\n",
        "class autoObject:\n",
        "  def __init__(self, rentado, diasRentado):\n",
        "    self.rentado = rentado\n",
        "    self.diasRentado = diasRentado\n",
        "\n",
        "random.seed()\n",
        "\n",
        "anios = 1\n",
        "dias = 365\n",
        "\n",
        "cantidadAutos = 3\n",
        "costoPromedioAutoAnual = 11000000\n",
        "valorRentaAutoDiario = 52000\n",
        "costoAutoNoDisponible = 30000\n",
        "costoCarroOciosoDia = 7500\n",
        "\n",
        "gananciasAlquiler = 0\n",
        "perdidasAutoNoDisponible = 0\n",
        "perdidasCarroOcioso = 0\n",
        "gananciasTotales = 0\n",
        "\n",
        "# Poblar la lista de autos con valores por defecto\n",
        "listaAutos = []\n",
        "for auto in range(cantidadAutos):\n",
        "  listaAutos.append(autoObject(False, 0))\n",
        "\n",
        "for iteracion in range(anios):\n",
        "  costoAutosAnual = costoPromedioAutoAnual * cantidadAutos\n",
        "\n",
        "  for iteracion in range(dias):\n",
        "    probabilidadAlquilados = random.random()\n",
        "\n",
        "    if (probabilidadAlquilados < 0.1):\n",
        "      demandaAutosAlquilados = 0\n",
        "    elif (probabilidadAlquilados < 0.2):\n",
        "      demandaAutosAlquilados = 1\n",
        "    elif (probabilidadAlquilados < 0.45):\n",
        "      demandaAutosAlquilados = 2\n",
        "    elif (probabilidadAlquilados < 0.75):\n",
        "      demandaAutosAlquilados = 3\n",
        "    else:\n",
        "      demandaAutosAlquilados = 4\n",
        "\n",
        "    if (cantidadAutos >= demandaAutosAlquilados):\n",
        "      autosPorAlquilar = demandaAutosAlquilados\n",
        "    else:\n",
        "      autosPorAlquilar = cantidadAutos\n",
        "\n",
        "    if (cantidadAutos > demandaAutosAlquilados):\n",
        "      perdidasCarroOcioso += (cantidadAutos - demandaAutosAlquilados) * costoCarroOciosoDia\n",
        "\n",
        "    for auto in listaAutos:\n",
        "      if (auto.rentado is True):\n",
        "        gananciasAlquiler += valorRentaAutoDiario\n",
        "        auto.diasRentado -= 1\n",
        "        if (auto.diasRentado == 0):\n",
        "          auto.rentado = False\n",
        "\n",
        "      if (autosPorAlquilar > 0):\n",
        "        if (auto.rentado is False):\n",
        "          autosPorAlquilar -= 1\n",
        "          probabilidadDiasRentados = random.random()\n",
        "\n",
        "          if (probabilidadDiasRentados < 0.4):\n",
        "            diasRentados = 1\n",
        "          elif (probabilidadDiasRentados < 0.75):\n",
        "            diasRentados = 2\n",
        "          elif (probabilidadDiasRentados < 0.90):\n",
        "            diasRentados = 3\n",
        "          else:\n",
        "            diasRentados = 4\n",
        "\n",
        "          auto.rentado = True\n",
        "          auto.diasRentado = diasRentados\n",
        "\n",
        "    if (autosPorAlquilar > 0):\n",
        "      perdidasAutoNoDisponible += autosPorAlquilar * costoAutoNoDisponible\n",
        "    else:\n",
        "      for auto in listaAutos:\n",
        "        if (auto.rentado is False):\n",
        "          perdidasCarroOcioso += costoCarroOciosoDia\n",
        "\n",
        "gananciasTotales = gananciasAlquiler - (cantidadAutos * costoPromedioAutoAnual * anios) - perdidasCarroOcioso - perdidasAutoNoDisponible\n",
        "\n",
        "print(f'\\nCostos anuales de los autos: {cantidadAutos * costoPromedioAutoAnual * anios}')\n",
        "print(f'Perdidas por autos no disponibles: {perdidasAutoNoDisponible}')\n",
        "print(f'Perdidas por autos ociosos: {perdidasCarroOcioso}')\n",
        "print(f'ganancias por alquiler de los autos: {gananciasAlquiler}')\n",
        "\n",
        "print(f'\\nGagancias totales: {gananciasTotales}')\n",
        "\n",
        "\n",
        "\n",
        "\n"
      ]
    }
  ]
}